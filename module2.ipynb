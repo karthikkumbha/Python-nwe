{
  "nbformat": 4,
  "nbformat_minor": 0,
  "metadata": {
    "colab": {
      "name": "module2.ipynb",
      "provenance": [],
      "collapsed_sections": [],
      "authorship_tag": "ABX9TyMOk+t1SeEwqgL6dfbYHfgB",
      "include_colab_link": true
    },
    "kernelspec": {
      "name": "python3",
      "display_name": "Python 3"
    },
    "language_info": {
      "name": "python"
    }
  },
  "cells": [
    {
      "cell_type": "markdown",
      "metadata": {
        "id": "view-in-github",
        "colab_type": "text"
      },
      "source": [
        "<a href=\"https://colab.research.google.com/github/karthikkumbha/Python-nwe/blob/module-2/module2.ipynb\" target=\"_parent\"><img src=\"https://colab.research.google.com/assets/colab-badge.svg\" alt=\"Open In Colab\"/></a>"
      ]
    },
    {
      "cell_type": "code",
      "execution_count": null,
      "metadata": {
        "colab": {
          "base_uri": "https://localhost:8080/"
        },
        "id": "rAOdlq3y5m7x",
        "outputId": "d0128399-1b48-4e41-9e38-98c0c645b193"
      },
      "outputs": [
        {
          "output_type": "stream",
          "name": "stdout",
          "text": [
            "['Green', 'White', 'Black']\n"
          ]
        }
      ],
      "source": [
        "#Program to print a specified list after removing the 0th, 4th and 5th elements.\n",
        "#Sample List : ['Red', 'Green', 'White', 'Black', 'Pink', 'Yellow']\n",
        "#Expected Output : ['Green', 'White', 'Black']\n",
        "karthik=['Red','Green','White','Black', 'Pink', 'Yellow']\n",
        "karthik=[r for (g,r) in enumerate (karthik) if g not in (0,4,5)]\n",
        "print(karthik)"
      ]
    },
    {
      "cell_type": "code",
      "source": [
        "##Create a function which accepts two inputs from the user and compute n\n",
        "def nCr(d,o):\n",
        "  return(fact(d)/(fact(o)\n",
        "                 *fact(d-o)))\n",
        "d=int(input(\"\"))\n",
        "o=int(input(\"\"))\n",
        "def fact(d):\n",
        "    res=1\n",
        "    for i in range(2,d+1):\n",
        "      res=res*i\n",
        "    return res  \n",
        "print(int(nCr(d,o)))    "
      ],
      "metadata": {
        "colab": {
          "base_uri": "https://localhost:8080/"
        },
        "id": "O-wDSCNa8KqA",
        "outputId": "f8248d08-8f4f-4cad-8917-73deea89e8bf"
      },
      "execution_count": null,
      "outputs": [
        {
          "output_type": "stream",
          "name": "stdout",
          "text": [
            "5\n",
            "5\n",
            "1\n"
          ]
        }
      ]
    },
    {
      "cell_type": "code",
      "source": [
        "#Given list of tuples, remove all the tuples with length K.\n",
        "#Input : test_list = [(4, 5), (4, ), (8, 6, 7), (1, ), (3, 4, 6, 7)], K = 2\n",
        "#Output : [(4, ), (8, 6, 7), (1, ), (3, 4, 6, 7)]\n",
        "#Explanation : (4, 5) of len = 2 is removed.\n",
        "karthik=[(4, 5), (4, ), (8, 6, 7), (1, ), (3, 4, 6, 7)]\n",
        "print(\"original list:\"+str(karthik))\n",
        "k = int(input(\"Enter the length of tuples you want to eliminate: \"))\n",
        "fin=[]\n",
        "for i in range(0,len(karthik)):\n",
        "   if len(karthik[i]) !=k:\n",
        "    fin.append(karthik[i])\n",
        "\n",
        "print(\"Filtered list:\"+str(fin))"
      ],
      "metadata": {
        "colab": {
          "base_uri": "https://localhost:8080/"
        },
        "id": "z_oCz7cR9Yv-",
        "outputId": "f429933a-7850-40c0-80a6-604c835c1a8d"
      },
      "execution_count": null,
      "outputs": [
        {
          "output_type": "stream",
          "name": "stdout",
          "text": [
            "original list:[(4, 5), (4,), (8, 6, 7), (1,), (3, 4, 6, 7)]\n",
            "Enter the length of tuples you want to eliminate: 2\n",
            "Filtered list:[(4,), (8, 6, 7), (1,), (3, 4, 6, 7)]\n"
          ]
        }
      ]
    },
    {
      "cell_type": "code",
      "source": [
        "#x Given list of tuples, remove all the tuples with length K.\n",
        "#Input : test_list = [(4, 5), (4, ), (8, 6, 7), (1, ), (3, 4, 6, 7)], K = 2\n",
        "#Output : [(4, ), (8, 6, 7), (1, ), (3, 4, 6, 7)]\n",
        "#Explanation : (4, 5) of len = 2 is removed.\n",
        "K=int(input(\"enter the number: \"))\n",
        "d=dict()\n",
        "for x in range(1,k+1):\n",
        "   d[x]=x*x\n",
        "print(d)"
      ],
      "metadata": {
        "colab": {
          "base_uri": "https://localhost:8080/"
        },
        "id": "biBK23oCAzDq",
        "outputId": "4facc5a2-4ac2-45b8-cf9a-171afab35fed"
      },
      "execution_count": null,
      "outputs": [
        {
          "output_type": "stream",
          "name": "stdout",
          "text": [
            "enter the number: 3\n",
            "{1: 1, 2: 4}\n"
          ]
        }
      ]
    },
    {
      "cell_type": "code",
      "source": [
        "#Create a function which accepts two inputs from the user and\n",
        "\n",
        "def nCr (a,b):\n",
        "return(fact(a)//(fact(b)\n",
        "*fact(a-b)))\n",
        "\n",
        "a=int(input(\"\"))\n",
        "b=int(input(\"\"))\n",
        "def fact(a):\n",
        "res=1\n",
        "for i in range(2,a+1):\n",
        "res =res*i\n",
        "return res\n",
        "print(int(nCr(a,b)))"
      ],
      "metadata": {
        "id": "3JVobczcFndW",
        "colab": {
          "base_uri": "https://localhost:8080/",
          "height": 130
        },
        "outputId": "a75de0ba-db24-410a-bf8f-bbc5bf41e7bc"
      },
      "execution_count": 2,
      "outputs": [
        {
          "output_type": "error",
          "ename": "IndentationError",
          "evalue": "ignored",
          "traceback": [
            "\u001b[0;36m  File \u001b[0;32m\"<ipython-input-2-c9d45c2eb2ce>\"\u001b[0;36m, line \u001b[0;32m4\u001b[0m\n\u001b[0;31m    return(fact(a)//(fact(b)\u001b[0m\n\u001b[0m         ^\u001b[0m\n\u001b[0;31mIndentationError\u001b[0m\u001b[0;31m:\u001b[0m expected an indented block\n"
          ]
        }
      ]
    },
    {
      "cell_type": "code",
      "source": [
        "a = [11, 12, 13, 14, 15 ]\n",
        "b = [11, 17, 14, 18 , 19 ]\n",
        "diff_a_b = list(set(a) - set(b))\n",
        "diff_b_a = list(set(b) - set(a))\n",
        "total_diff = diff_a_b + diff_b_a\n",
        "print(total_diff)"
      ],
      "metadata": {
        "colab": {
          "base_uri": "https://localhost:8080/"
        },
        "id": "tuyUhZOS8sNZ",
        "outputId": "f2a84bc4-9101-4469-a7dc-a5e1f6a8c556"
      },
      "execution_count": 3,
      "outputs": [
        {
          "output_type": "stream",
          "name": "stdout",
          "text": [
            "[12, 13, 15, 17, 18, 19]\n"
          ]
        }
      ]
    },
    {
      "cell_type": "code",
      "source": [
        "my_list = [4, 5, 7, 9, 12]\n",
        "print(\"The list is \")\n",
        "print(my_list)\n",
        "print(\"The resultant tuple is :\")\n",
        "my_result = [(val, pow(val, 2)) for val in my_list]\n",
        "print(my_result)"
      ],
      "metadata": {
        "colab": {
          "base_uri": "https://localhost:8080/"
        },
        "id": "FjE0EzVD85hH",
        "outputId": "7b38a140-f30e-4f12-c79c-bba28bff234f"
      },
      "execution_count": 4,
      "outputs": [
        {
          "output_type": "stream",
          "name": "stdout",
          "text": [
            "The list is \n",
            "[4, 5, 7, 9, 12]\n",
            "The resultant tuple is :\n",
            "[(4, 16), (5, 25), (7, 49), (9, 81), (12, 144)]\n"
          ]
        }
      ]
    },
    {
      "cell_type": "code",
      "source": [
        "Dict = {'a':6,'b':7,'c':8,'d':9}\n",
        "print(Dict)\n",
        "if 'c' in Dict:\n",
        "del Dict['c']\n",
        "print(Dict)"
      ],
      "metadata": {
        "colab": {
          "base_uri": "https://localhost:8080/",
          "height": 130
        },
        "id": "kWn63pOF89Qe",
        "outputId": "5c509f52-da67-4619-cc74-6031ca5a7900"
      },
      "execution_count": 5,
      "outputs": [
        {
          "output_type": "error",
          "ename": "IndentationError",
          "evalue": "ignored",
          "traceback": [
            "\u001b[0;36m  File \u001b[0;32m\"<ipython-input-5-5bf1e56578f4>\"\u001b[0;36m, line \u001b[0;32m4\u001b[0m\n\u001b[0;31m    del Dict['c']\u001b[0m\n\u001b[0m      ^\u001b[0m\n\u001b[0;31mIndentationError\u001b[0m\u001b[0;31m:\u001b[0m expected an indented block\n"
          ]
        }
      ]
    },
    {
      "cell_type": "code",
      "source": [
        "dictionary = {'x':450, 'y':7895, 'z': 560}\n",
        "key_max = max(dictionary.keys(), key=(lambda k: dictionary[k]))\n",
        "key_min = min(dictionary.keys(), key=(lambda k: dictionary[k]))\n",
        "print('Maximum Value: ',dictionary[key_max])\n",
        "print('Minimum Value: ',dictionary[key_min])"
      ],
      "metadata": {
        "colab": {
          "base_uri": "https://localhost:8080/"
        },
        "id": "OjMnYqDY9Cfq",
        "outputId": "72e02a8d-1419-4713-ec41-a826aa4cfbc4"
      },
      "execution_count": 6,
      "outputs": [
        {
          "output_type": "stream",
          "name": "stdout",
          "text": [
            "Maximum Value:  7895\n",
            "Minimum Value:  450\n"
          ]
        }
      ]
    },
    {
      "cell_type": "code",
      "source": [
        "str_1=\"Rabbit\"\n",
        "print(str_1.count('b'))\n",
        "str_2=\"I have to go to a doctor and get myself checked.\"\n",
        "print(str_2.count('to'))"
      ],
      "metadata": {
        "colab": {
          "base_uri": "https://localhost:8080/"
        },
        "id": "Aej7IC3A9KdT",
        "outputId": "ba00c746-a28e-47d0-91dc-78fc77fe3ee9"
      },
      "execution_count": 7,
      "outputs": [
        {
          "output_type": "stream",
          "name": "stdout",
          "text": [
            "2\n",
            "3\n"
          ]
        }
      ]
    },
    {
      "cell_type": "code",
      "source": [
        "##Program for replacing one substring by another For example - Rabbit - Replace \"bb\" and \"\n",
        "string='Rabbit'\n",
        "new_string=string.replace('bb','cc')\n",
        "print(new_string)"
      ],
      "metadata": {
        "colab": {
          "base_uri": "https://localhost:8080/"
        },
        "id": "blEct8Ch9ORD",
        "outputId": "603da157-cfc3-405c-b7fd-2c5303e7d289"
      },
      "execution_count": 8,
      "outputs": [
        {
          "output_type": "stream",
          "name": "stdout",
          "text": [
            "Raccit\n"
          ]
        }
      ]
    },
    {
      "cell_type": "code",
      "source": [
        "#elements of string using locati\n",
        "#x Program to perform operations on string using unicodes ,splitting of\n",
        "#string,accessing\n",
        "\n",
        "string=input(\"enter a string: \")\n",
        "print(string.split())\n",
        "print(string[4:19])"
      ],
      "metadata": {
        "colab": {
          "base_uri": "https://localhost:8080/"
        },
        "id": "utyZ57159R7i",
        "outputId": "04a7dcef-789c-408d-8ddc-d63323434b26"
      },
      "execution_count": 10,
      "outputs": [
        {
          "output_type": "stream",
          "name": "stdout",
          "text": [
            "enter a string: kgf movies is blockbaster in south india\n",
            "['kgf', 'movies', 'is', 'blockbaster', 'in', 'south', 'india']\n",
            "movies is block\n"
          ]
        }
      ]
    },
    {
      "cell_type": "code",
      "source": [
        "##x Program to Acronym generator for any user input (ex-input is Random memory access\n",
        "#then output should be RMA).Example - Random number (RN)\n",
        "string=input(\"enter some string:\")\n",
        "a=string.split()\n",
        "for i in a:\n",
        "print (i[0],end='') "
      ],
      "metadata": {
        "colab": {
          "base_uri": "https://localhost:8080/",
          "height": 130
        },
        "id": "TYU03Rv19XLg",
        "outputId": "3d515966-ada7-468a-c03e-8f246aa36421"
      },
      "execution_count": 12,
      "outputs": [
        {
          "output_type": "error",
          "ename": "IndentationError",
          "evalue": "ignored",
          "traceback": [
            "\u001b[0;36m  File \u001b[0;32m\"<ipython-input-12-8bed7239294d>\"\u001b[0;36m, line \u001b[0;32m6\u001b[0m\n\u001b[0;31m    print (i[0],end='')\u001b[0m\n\u001b[0m        ^\u001b[0m\n\u001b[0;31mIndentationError\u001b[0m\u001b[0;31m:\u001b[0m expected an indented block\n"
          ]
        }
      ]
    },
    {
      "cell_type": "code",
      "source": [
        "##Python function that accepts a string and calculates the number of uppercase\n",
        "#letters and lowercase letters.\n",
        "string=\"I Love hollywood movies and I enjoy it.\"\n",
        "count_1=0\n",
        "count_2=0\n",
        "for i in string:\n",
        "if i.isupper():\n",
        "count_1+=1\n",
        "elif i.islower():\n",
        "count_2+=1\n",
        "else:\n",
        "pass\n",
        "print(\"No.of uppercase alphabets are: \",count_1)\n",
        "print(\"No.of lowercase alphabets are: \",count_2)"
      ],
      "metadata": {
        "colab": {
          "base_uri": "https://localhost:8080/",
          "height": 130
        },
        "id": "vWUcIi3R9ob1",
        "outputId": "12c48c94-f439-44ef-a6af-bb0bcecf47e7"
      },
      "execution_count": 13,
      "outputs": [
        {
          "output_type": "error",
          "ename": "IndentationError",
          "evalue": "ignored",
          "traceback": [
            "\u001b[0;36m  File \u001b[0;32m\"<ipython-input-13-1c1d0f3f6609>\"\u001b[0;36m, line \u001b[0;32m7\u001b[0m\n\u001b[0;31m    if i.isupper():\u001b[0m\n\u001b[0m     ^\u001b[0m\n\u001b[0;31mIndentationError\u001b[0m\u001b[0;31m:\u001b[0m expected an indented block\n"
          ]
        }
      ]
    },
    {
      "cell_type": "code",
      "source": [
        "##Program to count the number of strings where the string length is 2 or more and\n",
        "#the first and last character are same from a given list of strings\n",
        "Sample_List = ['abc', 'xyz', 'aba', '1221','amma','24','in','cds2t54sc']\n",
        "count=0\n",
        "for i in Sample_List:\n",
        "if len(i)>=2:\n",
        "if i[0]==i[len(i)-1]:\n",
        "print(i)\n",
        "count+=1\n",
        "print(count)"
      ],
      "metadata": {
        "colab": {
          "base_uri": "https://localhost:8080/",
          "height": 130
        },
        "id": "mYrMdkUh9y13",
        "outputId": "6252e23f-8cac-4027-ea37-de520fc3a859"
      },
      "execution_count": 17,
      "outputs": [
        {
          "output_type": "error",
          "ename": "IndentationError",
          "evalue": "ignored",
          "traceback": [
            "\u001b[0;36m  File \u001b[0;32m\"<ipython-input-17-c277a8f0a829>\"\u001b[0;36m, line \u001b[0;32m6\u001b[0m\n\u001b[0;31m    if len(i)>=2:\u001b[0m\n\u001b[0m     ^\u001b[0m\n\u001b[0;31mIndentationError\u001b[0m\u001b[0;31m:\u001b[0m expected an indented block\n"
          ]
        }
      ]
    },
    {
      "cell_type": "code",
      "source": [
        ""
      ],
      "metadata": {
        "id": "z4Hwk9Uk96aG"
      },
      "execution_count": null,
      "outputs": []
    }
  ]
}