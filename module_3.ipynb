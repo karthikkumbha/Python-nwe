{
  "nbformat": 4,
  "nbformat_minor": 0,
  "metadata": {
    "colab": {
      "name": "module 3.ipynb",
      "provenance": [],
      "collapsed_sections": [],
      "authorship_tag": "ABX9TyP3wRPiHT1Ut1NgvuZ5Scqi",
      "include_colab_link": true
    },
    "kernelspec": {
      "name": "python3",
      "display_name": "Python 3"
    },
    "language_info": {
      "name": "python"
    }
  },
  "cells": [
    {
      "cell_type": "markdown",
      "metadata": {
        "id": "view-in-github",
        "colab_type": "text"
      },
      "source": [
        "<a href=\"https://colab.research.google.com/github/karthikkumbha/Python-nwe/blob/module-3/module_3.ipynb\" target=\"_parent\"><img src=\"https://colab.research.google.com/assets/colab-badge.svg\" alt=\"Open In Colab\"/></a>"
      ]
    },
    {
      "cell_type": "code",
      "source": [
        "##read an entire text file.\n",
        "import pandas\n",
        "dhanush = {'companies':['Amazon','Wipro','Adantel','Adobe'],'location':['vjy','Vsp','pmr',\n",
        "x = pandas.DataFrame(karthik)\n",
        "print(x)"
      ],
      "metadata": {
        "id": "7QS6f2L139U6"
      },
      "execution_count": null,
      "outputs": []
    },
    {
      "cell_type": "code",
      "source": [
        "##read the first n lines of a file.\n",
        "import pandas as pd\n",
        "dhanush = {'companies':['Amazon','Wipro','Adantel','Adobe'],'location':['nlr','Vsp','vjw',\n",
        "x = pd.DataFrame(karthik)\n",
        "print(x)"
      ],
      "metadata": {
        "id": "BAwPcsav4A8h"
      },
      "execution_count": null,
      "outputs": []
    },
    {
      "cell_type": "code",
      "source": [
        "##append text to a file and display the text.\n",
        "import pandas as pd\n",
        "marks = [98,32.9,41,28]\n",
        "karthik = pd.Series(marks)\n",
        "print(karthik)"
      ],
      "metadata": {
        "id": "NM9LGe6r3uDN"
      },
      "execution_count": null,
      "outputs": []
    },
    {
      "cell_type": "code",
      "source": [
        "##Read numbers from a file and write even and odd numbers to separate files.\n",
        "import pandas as pd\n",
        "marks = [98,32.9,41,28]\n",
        "karthik = pd.Series(marks)\n",
        "print(karthik)\n",
        "print(karthik[1])"
      ],
      "metadata": {
        "id": "FVLRYLBj30cl"
      },
      "execution_count": null,
      "outputs": []
    },
    {
      "cell_type": "code",
      "source": [
        "##x Count characters, words and lines in a text file.\n",
        "import pandas as pd\n",
        "marks = [28, 29.5, 15]\n",
        "karthik = pd.Series(marks, index = [\"mama\", \"pranav\", \"yeshwanth\"])\n",
        "print(karthik)"
      ],
      "metadata": {
        "id": "NxuHfl4_4HBn"
      },
      "execution_count": null,
      "outputs": []
    },
    {
      "cell_type": "code",
      "source": [
        "##Write a Pandas program to read specific columns from a given excel file.\n",
        "import pandas as pd\n",
        "marks = [28, 29.5, 15]\n",
        "karthik = pd.Series(marks, index = [\"sai\", \"srikanth\", \"ravi\"])\n",
        "print(karthik)\n",
        "print(mymarks[\"sai\"])"
      ],
      "metadata": {
        "id": "QUyJq1nO4beK"
      },
      "execution_count": null,
      "outputs": []
    },
    {
      "cell_type": "code",
      "source": [
        "##x To write a list to a file.\n",
        "import pandas as pd\n",
        "karthik = {\"d1\": 12, \"d2\": 10, \"d3\": 8}\n",
        "x = pd.Series(karthik)\n",
        "print(x)"
      ],
      "metadata": {
        "id": "o5E0hbnL4fMQ"
      },
      "execution_count": null,
      "outputs": []
    },
    {
      "cell_type": "code",
      "source": [
        "##Print only limited data as per the labels:\n",
        "import pandas as pd\n",
        "karthik = {\"d1\": 12, \"d2\": 10, \"d3\": 8}\n",
        "x = pd.Series(karthik,index=[\"d1\",\"d2\"])\n",
        "print(x)"
      ],
      "metadata": {
        "id": "eA1RRj_g4lj6"
      },
      "execution_count": null,
      "outputs": []
    },
    {
      "cell_type": "code",
      "source": [
        "##Given a dataframe, select rows based on a condition.\n",
        "import pandas as pd\n",
        "karthik = {\n",
        "\"Employees\": [\"sai\", \"bhanu\", \"vivek\"],\n",
        "\"Publications\": [50, 40, 45]\n",
        "}\n",
        "x = pd.DataFrame(karthik)\n",
        "print(x)"
      ],
      "metadata": {
        "id": "NW3KhYGN5QDa"
      },
      "execution_count": null,
      "outputs": []
    },
    {
      "cell_type": "code",
      "source": [
        "##Given a dataframe, select rows based on a condition.\n",
        "import pandas as pd\n",
        "empPublications = {\n",
        "\"Employees\": [\"Raman\", \"Ranjan\", \"Ramani\"],\n",
        "\"Publications\": [50, 40, 45]\n",
        "}\n",
        "myvar = pd.DataFrame(empPublications,index=[\"2001\",\"2002\",\"2003\"])\n",
        "print(myvar)\n",
        "print(myvar.loc[\"2001\"])"
      ],
      "metadata": {
        "id": "QO-3xASB5aEN"
      },
      "execution_count": null,
      "outputs": []
    },
    {
      "cell_type": "code",
      "source": [
        "##x Given a CSV file or excel file to read it into a dataframe and display it.\n",
        "import pandas as pd\n",
        "df = pd.read_csv('karthik.csv')\n",
        "print(df)"
      ],
      "metadata": {
        "id": "34OcFxcQ5p82"
      },
      "execution_count": null,
      "outputs": []
    },
    {
      "cell_type": "code",
      "source": [
        "##Given is a dataframe showing the name, occupation, salary of people. Find the average sa\n",
        "import pandas as pd\n",
        "df = pd.read_csv('karthik.csv')\n",
        "print(df.to_string())"
      ],
      "metadata": {
        "id": "kUmgZM115s4K"
      },
      "execution_count": null,
      "outputs": []
    },
    {
      "cell_type": "code",
      "source": [
        "##x Given a dataframe, select rows based on a condition.\n",
        "import pandas as pd\n",
        "pd.options.display.max_rows = 9999\n",
        "df = pd.read_csv(‘dhanush.csv’)\n",
        "print(df)"
      ],
      "metadata": {
        "id": "picNYk305x1s"
      },
      "execution_count": null,
      "outputs": []
    }
  ]
}